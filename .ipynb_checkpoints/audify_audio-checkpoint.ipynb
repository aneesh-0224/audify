{
 "cells": [
  {
   "cell_type": "code",
   "execution_count": 56,
   "id": "6addf557",
   "metadata": {},
   "outputs": [],
   "source": [
    "import pandas as pd\n",
    "import numpy as np\n",
    "\n",
    "pd.plotting.register_matplotlib_converters()\n",
    "import matplotlib.pyplot as plt\n",
    "%matplotlib inline\n",
    "import seaborn as sns\n",
    "\n",
    "from sklearn.model_selection import train_test_split\n",
    "from sklearn.metrics import classification_report\n",
    "from sklearn.model_selection import GridSearchCV\n",
    "\n",
    "from sklearn.preprocessing import MinMaxScaler"
   ]
  },
  {
   "cell_type": "code",
   "execution_count": 57,
   "id": "20b6a29f",
   "metadata": {},
   "outputs": [],
   "source": [
    "from tensorflow.keras.models import Sequential\n",
    "from tensorflow.keras.layers import Conv2D, Flatten, Dense, MaxPool2D, Dropout\n",
    "from tensorflow.keras.utils import to_categorical \n",
    "\n",
    "from sklearn.ensemble import RandomForestClassifier\n",
    "from sklearn.svm import SVC"
   ]
  },
  {
   "cell_type": "code",
   "execution_count": 58,
   "id": "ceed0812",
   "metadata": {},
   "outputs": [],
   "source": [
    "import os\n",
    "import librosa\n",
    "import librosa.display\n",
    "import glob \n",
    "import skimage"
   ]
  },
  {
   "cell_type": "code",
   "execution_count": 59,
   "id": "04fcc2c0",
   "metadata": {},
   "outputs": [],
   "source": [
    "input_dim = (16, 8, 1)"
   ]
  },
  {
   "cell_type": "code",
   "execution_count": 60,
   "id": "8d09e68b",
   "metadata": {},
   "outputs": [],
   "source": [
    "model = Sequential()\n",
    "model.add(Conv2D(64, (3, 3), padding = \"same\", activation = \"tanh\", input_shape = input_dim))\n",
    "model.add(MaxPool2D(pool_size=(2, 2)))\n",
    "model.add(Conv2D(128, (3, 3), padding = \"same\", activation = \"tanh\"))\n",
    "model.add(MaxPool2D(pool_size=(2, 2)))\n",
    "model.add(Dropout(0.1))\n",
    "model.add(Flatten())\n",
    "model.add(Dense(1024, activation = \"tanh\"))\n",
    "model.add(Dense(10, activation = \"softmax\"))"
   ]
  },
  {
   "cell_type": "code",
   "execution_count": 61,
   "id": "644b24c3",
   "metadata": {},
   "outputs": [],
   "source": [
    "model.load_weights('audify_weights.hdf5')"
   ]
  },
  {
   "cell_type": "code",
   "execution_count": 62,
   "id": "0a0fa673",
   "metadata": {},
   "outputs": [],
   "source": [
    "sound=['air_conditioner','car_horn','children_playing','dog_bark','drilling','engine_idling','gun_shot','jackhammer','siren','street_music']\n",
    "genre_arr=['blues','classical','country','disco','hiphop','jazz','metal','pop','reggae','rock']"
   ]
  },
  {
   "cell_type": "code",
   "execution_count": 100,
   "id": "0783c618",
   "metadata": {},
   "outputs": [],
   "source": [
    "filename='fin.wav'\n",
    "x, sample_rate = librosa.load(filename, res_type='kaiser_fast') \n",
    "mels_specific = np.mean(librosa.feature.melspectrogram(y=x, sr=sample_rate).T,axis=0)"
   ]
  },
  {
   "cell_type": "code",
   "execution_count": 101,
   "id": "10e9dc54",
   "metadata": {},
   "outputs": [],
   "source": [
    "single_in=mels_specific.reshape(1,16,8,1)"
   ]
  },
  {
   "cell_type": "code",
   "execution_count": 102,
   "id": "2feddb8c",
   "metadata": {},
   "outputs": [],
   "source": [
    "pred2=model.predict(single_in)"
   ]
  },
  {
   "cell_type": "code",
   "execution_count": 103,
   "id": "f747cdbe",
   "metadata": {},
   "outputs": [
    {
     "data": {
      "text/plain": [
       "array([[2.0756159e-04, 4.8424770e-18, 1.1443810e-02, 9.9558729e-13,\n",
       "        3.3737899e-06, 2.5163612e-16, 3.8596877e-09, 9.8812824e-01,\n",
       "        6.2156264e-13, 2.1697530e-04]], dtype=float32)"
      ]
     },
     "execution_count": 103,
     "metadata": {},
     "output_type": "execute_result"
    }
   ],
   "source": [
    "pred2"
   ]
  },
  {
   "cell_type": "code",
   "execution_count": 110,
   "id": "193fab0e",
   "metadata": {},
   "outputs": [
    {
     "name": "stdout",
     "output_type": "stream",
     "text": [
      "air_conditioner\n",
      "children_playing\n",
      "jackhammer\n",
      "street_music\n"
     ]
    }
   ],
   "source": [
    "for i,s in enumerate(pred2[0]):\n",
    "    if(s>1e-4):\n",
    "        print(sound[i])"
   ]
  },
  {
   "cell_type": "code",
   "execution_count": 112,
   "id": "f9eaf083",
   "metadata": {},
   "outputs": [
    {
     "data": {
      "text/plain": [
       "'jackhammer'"
      ]
     },
     "execution_count": 112,
     "metadata": {},
     "output_type": "execute_result"
    }
   ],
   "source": [
    "sound[np.argmax(pred2)]"
   ]
  },
  {
   "cell_type": "code",
   "execution_count": 34,
   "id": "8c140b7e",
   "metadata": {},
   "outputs": [],
   "source": [
    "model_genre = Sequential()\n",
    "model_genre.add(Conv2D(64, (3, 3), padding = \"same\", activation = \"tanh\", input_shape = input_dim))\n",
    "model_genre.add(MaxPool2D(pool_size=(2, 2)))\n",
    "model_genre.add(Conv2D(128, (3, 3), padding = \"same\", activation = \"tanh\"))\n",
    "model_genre.add(MaxPool2D(pool_size=(2, 2)))\n",
    "model_genre.add(Dropout(0.1))\n",
    "model_genre.add(Flatten())\n",
    "model_genre.add(Dense(1024, activation = \"tanh\"))\n",
    "model_genre.add(Dense(10, activation = \"softmax\"))"
   ]
  },
  {
   "cell_type": "code",
   "execution_count": 35,
   "id": "7483de5e",
   "metadata": {},
   "outputs": [],
   "source": [
    "model_genre.load_weights('audify_weights_genre.hdf5')"
   ]
  },
  {
   "cell_type": "code",
   "execution_count": 36,
   "id": "640ead50",
   "metadata": {},
   "outputs": [],
   "source": [
    "genre_pred=model_genre.predict(single_in)"
   ]
  },
  {
   "cell_type": "code",
   "execution_count": 37,
   "id": "6e742833",
   "metadata": {},
   "outputs": [
    {
     "data": {
      "text/plain": [
       "array([[1.0012066e-15, 1.3781706e-27, 1.6641731e-13, 5.2828644e-09,\n",
       "        9.9959999e-01, 6.5010753e-23, 3.9941655e-04, 5.0569970e-13,\n",
       "        6.0644061e-07, 3.0175482e-08]], dtype=float32)"
      ]
     },
     "execution_count": 37,
     "metadata": {},
     "output_type": "execute_result"
    }
   ],
   "source": [
    "genre_pred"
   ]
  },
  {
   "cell_type": "code",
   "execution_count": 38,
   "id": "7809b83e",
   "metadata": {},
   "outputs": [
    {
     "data": {
      "text/plain": [
       "'hiphop'"
      ]
     },
     "execution_count": 38,
     "metadata": {},
     "output_type": "execute_result"
    }
   ],
   "source": [
    "genre_arr[np.argmax(genre_pred)]"
   ]
  },
  {
   "cell_type": "code",
   "execution_count": null,
   "id": "a3792b36",
   "metadata": {},
   "outputs": [],
   "source": []
  },
  {
   "cell_type": "code",
   "execution_count": 97,
   "id": "5101337c",
   "metadata": {},
   "outputs": [],
   "source": [
    "x1, sample_rate1 = librosa.load('t1.wav', res_type='kaiser_fast')\n",
    "x2, sample_rate2 = librosa.load('t2.wav', res_type='kaiser_fast')"
   ]
  },
  {
   "cell_type": "code",
   "execution_count": 98,
   "id": "b21ddbc6",
   "metadata": {},
   "outputs": [
    {
     "data": {
      "text/plain": [
       "array([ 0.01814515,  0.0202877 ,  0.01789281, ..., -0.03620626,\n",
       "        0.00335447,  0.00561816], dtype=float32)"
      ]
     },
     "execution_count": 98,
     "metadata": {},
     "output_type": "execute_result"
    }
   ],
   "source": [
    "fin=x1+1.5*x2\n",
    "fin"
   ]
  },
  {
   "cell_type": "code",
   "execution_count": 99,
   "id": "e06b3a49",
   "metadata": {},
   "outputs": [],
   "source": [
    "import soundfile as sf\n",
    "sf.write('fin.wav', fin, sample_rate1, 'PCM_24')"
   ]
  },
  {
   "cell_type": "code",
   "execution_count": null,
   "id": "ead0fbb1",
   "metadata": {},
   "outputs": [],
   "source": []
  }
 ],
 "metadata": {
  "kernelspec": {
   "display_name": "Python 3 (ipykernel)",
   "language": "python",
   "name": "python3"
  },
  "language_info": {
   "codemirror_mode": {
    "name": "ipython",
    "version": 3
   },
   "file_extension": ".py",
   "mimetype": "text/x-python",
   "name": "python",
   "nbconvert_exporter": "python",
   "pygments_lexer": "ipython3",
   "version": "3.9.7"
  }
 },
 "nbformat": 4,
 "nbformat_minor": 5
}
